{
 "cells": [
  {
   "cell_type": "code",
   "execution_count": 2,
   "metadata": {},
   "outputs": [],
   "source": [
    "import numpy as np"
   ]
  },
  {
   "cell_type": "code",
   "execution_count": 3,
   "metadata": {},
   "outputs": [],
   "source": [
    "def f(x):\n",
    "    return -np.float64(0.1)*x**np.float64(4) - np.float64(0.15)*x**np.float64(3) - np.float64(0.5)*x**np.float64(2) - np.float64(0.25)*x + np.float64(1.2)\n",
    "\n",
    "def df(x):\n",
    "    return -np.float64(0.4)*x**np.float64(3) - np.float64(0.45)*x**np.float64(2) - x - np.float64(0.25)\n",
    "\n",
    "def centered_diff(f, x, h):\n",
    "    return (f(x+h) - f(x-h))/(np.float64(2)*h) "
   ]
  },
  {
   "cell_type": "code",
   "execution_count": 4,
   "metadata": {},
   "outputs": [
    {
     "name": "stdout",
     "output_type": "stream",
     "text": [
      "--------------------------------------------------------\n",
      "     h               approx_val               error\n",
      "--------------------------------------------------------\n"
     ]
    }
   ],
   "source": []
  },
  {
   "cell_type": "code",
   "execution_count": 8,
   "metadata": {},
   "outputs": [
    {
     "name": "stdout",
     "output_type": "stream",
     "text": [
      "--------------------------------------------------------\n",
      "     h               approx_val               error\n",
      "--------------------------------------------------------\n",
      "      1.0000000000  -1.26250004768372    1.2625000476837\n",
      "      0.1000000015  -0.91600000858307    0.9160000085831\n",
      "      0.0099999998  -0.91253519058228    0.9125351905823\n",
      "      0.0009999999  -0.91248756647110    0.9124875664711\n",
      "      0.0001000000  -0.91254723072052    0.9125472307205\n",
      "      0.0000100000  -0.91493141651154    0.9149314165115\n",
      "      0.0000010000  -0.92387211322784    0.9238721132278\n",
      "      0.0000001000  -0.89406979084015    0.8940697908401\n",
      "      0.0000000100   0.00000000000000    0.0000000000000\n",
      "      0.0000000010   0.00000000000000    0.0000000000000\n",
      "      0.0000000001   0.00000000000000    0.0000000000000\n",
      "<class 'numpy.float32'>\n",
      "<class 'numpy.float32'>\n"
     ]
    }
   ],
   "source": [
    "x = np.float64(0.5) \n",
    "h = np.float64(1.0)\n",
    "true_val = 0\n",
    "\n",
    "print(\"--------------------------------------------------------\")\n",
    "print(\"     h               approx_val               error\")\n",
    "print(\"--------------------------------------------------------\")\n",
    "\n",
    "for i in range(11):\n",
    "    approx_val =centered_diff(f, x, h) \n",
    "    εt = abs(approx_val - true_val)\n",
    "    print(\"%18.10f %18.14f %18.13f\" % (h, approx_val, εt))\n",
    "    h = h/np.float64(10)\n",
    "    \n",
    "print(type(h))\n",
    "print(type(centered_diff(f,x,h)))"
   ]
  }
 ],
 "metadata": {
  "interpreter": {
   "hash": "987cbd703dfba44d9b85abc3dca62ccaba18865537b5bf4fce303cb64e6f6229"
  },
  "kernelspec": {
   "display_name": "Python 3.9.10 64-bit (windows store)",
   "language": "python",
   "name": "python3"
  },
  "language_info": {
   "codemirror_mode": {
    "name": "ipython",
    "version": 3
   },
   "file_extension": ".py",
   "mimetype": "text/x-python",
   "name": "python",
   "nbconvert_exporter": "python",
   "pygments_lexer": "ipython3",
   "version": "3.9.10"
  },
  "orig_nbformat": 4
 },
 "nbformat": 4,
 "nbformat_minor": 2
}
