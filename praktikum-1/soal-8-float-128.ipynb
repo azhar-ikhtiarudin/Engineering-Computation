{
 "cells": [
  {
   "cell_type": "code",
   "execution_count": 1,
   "metadata": {},
   "outputs": [],
   "source": [
    "import numpy as np"
   ]
  },
  {
   "cell_type": "code",
   "execution_count": 2,
   "metadata": {},
   "outputs": [],
   "source": [
    "def f(x):\n",
    "    return -np.float128(0.1)*x**np.float128(4) - np.float128(0.15)*x**np.float128(3) - np.float128(0.5)*x**np.float128(2) - np.float128(0.25)*x + np.float128(1.2)\n",
    "\n",
    "def df(x):\n",
    "    return -np.float128(0.4)*x**np.float128(3) - np.float128(0.45)*x**np.float128(2) - x - np.float128(0.25)\n",
    "\n",
    "def centered_diff(f, x, h):\n",
    "    return (f(x+h) - f(x-h))/(np.float128(2)*h) "
   ]
  },
  {
   "cell_type": "code",
   "execution_count": null,
   "metadata": {},
   "outputs": [],
   "source": []
  },
  {
   "cell_type": "code",
   "execution_count": 3,
   "metadata": {},
   "outputs": [
    {
     "ename": "AttributeError",
     "evalue": "module 'numpy' has no attribute 'float128'",
     "output_type": "error",
     "traceback": [
      "\u001b[1;31m---------------------------------------------------------------------------\u001b[0m",
      "\u001b[1;31mAttributeError\u001b[0m                            Traceback (most recent call last)",
      "\u001b[1;32mc:\\Users\\ASUS\\Desktop\\Comp\\praktikum-1\\soal-8-float-128.ipynb Cell 4'\u001b[0m in \u001b[0;36m<module>\u001b[1;34m\u001b[0m\n\u001b[1;32m----> <a href='vscode-notebook-cell:/c%3A/Users/ASUS/Desktop/Comp/praktikum-1/soal-8-float-128.ipynb#ch0000003?line=0'>1</a>\u001b[0m x \u001b[39m=\u001b[39m np\u001b[39m.\u001b[39;49mfloat128(\u001b[39m0.5\u001b[39m) \n\u001b[0;32m      <a href='vscode-notebook-cell:/c%3A/Users/ASUS/Desktop/Comp/praktikum-1/soal-8-float-128.ipynb#ch0000003?line=1'>2</a>\u001b[0m h \u001b[39m=\u001b[39m np\u001b[39m.\u001b[39mfloat128(\u001b[39m1.0\u001b[39m)\n\u001b[0;32m      <a href='vscode-notebook-cell:/c%3A/Users/ASUS/Desktop/Comp/praktikum-1/soal-8-float-128.ipynb#ch0000003?line=2'>3</a>\u001b[0m true_val \u001b[39m=\u001b[39m \u001b[39m0\u001b[39m\n",
      "File \u001b[1;32m~\\AppData\\Local\\Packages\\PythonSoftwareFoundation.Python.3.9_qbz5n2kfra8p0\\LocalCache\\local-packages\\Python39\\site-packages\\numpy\\__init__.py:313\u001b[0m, in \u001b[0;36m__getattr__\u001b[1;34m(attr)\u001b[0m\n\u001b[0;32m    <a href='file:///~/AppData/Local/Packages/PythonSoftwareFoundation.Python.3.9_qbz5n2kfra8p0/LocalCache/local-packages/Python39/site-packages/numpy/__init__.py?line=309'>310</a>\u001b[0m     \u001b[39mfrom\u001b[39;00m \u001b[39m.\u001b[39;00m\u001b[39mtesting\u001b[39;00m \u001b[39mimport\u001b[39;00m Tester\n\u001b[0;32m    <a href='file:///~/AppData/Local/Packages/PythonSoftwareFoundation.Python.3.9_qbz5n2kfra8p0/LocalCache/local-packages/Python39/site-packages/numpy/__init__.py?line=310'>311</a>\u001b[0m     \u001b[39mreturn\u001b[39;00m Tester\n\u001b[1;32m--> <a href='file:///~/AppData/Local/Packages/PythonSoftwareFoundation.Python.3.9_qbz5n2kfra8p0/LocalCache/local-packages/Python39/site-packages/numpy/__init__.py?line=312'>313</a>\u001b[0m \u001b[39mraise\u001b[39;00m \u001b[39mAttributeError\u001b[39;00m(\u001b[39m\"\u001b[39m\u001b[39mmodule \u001b[39m\u001b[39m{!r}\u001b[39;00m\u001b[39m has no attribute \u001b[39m\u001b[39m\"\u001b[39m\n\u001b[0;32m    <a href='file:///~/AppData/Local/Packages/PythonSoftwareFoundation.Python.3.9_qbz5n2kfra8p0/LocalCache/local-packages/Python39/site-packages/numpy/__init__.py?line=313'>314</a>\u001b[0m                      \u001b[39m\"\u001b[39m\u001b[39m{!r}\u001b[39;00m\u001b[39m\"\u001b[39m\u001b[39m.\u001b[39mformat(\u001b[39m__name__\u001b[39m, attr))\n",
      "\u001b[1;31mAttributeError\u001b[0m: module 'numpy' has no attribute 'float128'"
     ]
    }
   ],
   "source": [
    "x = np.float128(0.5) \n",
    "h = np.float128(1.0)\n",
    "true_val = 0\n",
    "\n",
    "print(\"--------------------------------------------------------\")\n",
    "print(\"     h               approx_val               error\")\n",
    "print(\"--------------------------------------------------------\")\n",
    "\n",
    "for i in range(11):\n",
    "    approx_val =centered_diff(f, x, h) \n",
    "    εt = abs(approx_val - true_val)\n",
    "    print(\"%18.10f %18.14f %18.13f\" % (h, approx_val, εt))\n",
    "    h = h/np.float128(10)\n",
    "    \n",
    "print(type(h))\n",
    "print(type(centered_diff(f,x,h)))"
   ]
  }
 ],
 "metadata": {
  "interpreter": {
   "hash": "987cbd703dfba44d9b85abc3dca62ccaba18865537b5bf4fce303cb64e6f6229"
  },
  "kernelspec": {
   "display_name": "Python 3.9.10 64-bit (windows store)",
   "language": "python",
   "name": "python3"
  },
  "language_info": {
   "codemirror_mode": {
    "name": "ipython",
    "version": 3
   },
   "file_extension": ".py",
   "mimetype": "text/x-python",
   "name": "python",
   "nbconvert_exporter": "python",
   "pygments_lexer": "ipython3",
   "version": "3.9.10"
  },
  "orig_nbformat": 4
 },
 "nbformat": 4,
 "nbformat_minor": 2
}
