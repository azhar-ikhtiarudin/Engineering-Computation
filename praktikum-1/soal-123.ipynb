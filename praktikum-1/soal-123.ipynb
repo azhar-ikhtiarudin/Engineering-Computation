{
 "cells": [
  {
   "cell_type": "markdown",
   "metadata": {},
   "source": [
    "<mark style=\"background-color: lightskyblue\">SOAL 1</mark>"
   ]
  },
  {
   "cell_type": "code",
   "execution_count": 1,
   "metadata": {},
   "outputs": [
    {
     "name": "stdout",
     "output_type": "stream",
     "text": [
      "  1       1.0000000000   39.34693%        nan%\n",
      "  2       1.5000000000    9.02040%   33.33333%\n",
      "  3       1.6250000000    1.43877%    7.69231%\n",
      "  4       1.6458333333    0.17516%    1.26582%\n",
      "  5       1.6484375000    0.01721%    0.15798%\n",
      "  6       1.6486979167    0.00142%    0.01580%\n",
      "Converged within 3 significant digits\n",
      "true_val is       1.6487212707\n",
      "approx_val is       1.6486979167\n"
     ]
    }
   ],
   "source": [
    "from math import factorial, exp\n",
    "\n",
    "def approx_exp(x, N):\n",
    " assert(N >= 0)\n",
    " if N == 0:\n",
    "    return 1\n",
    " s = 0.0\n",
    " for i in range(N+1):\n",
    "    s = s + x**i/factorial(i)\n",
    " return s\n",
    "\n",
    "x = 0.5\n",
    "true_val = exp(x) # from math module\n",
    "\n",
    "n_digit = int(input(\"masukkan digit: \"))\n",
    "# Equation 3.7\n",
    "ε_s_percent = 0.5*10**(2-n_digit)\n",
    "\n",
    "prev_approx = 0.0\n",
    "for N in range(50):\n",
    " approx_val = approx_exp(x, N)\n",
    " ε_t_percent = abs(approx_val - true_val)/true_val * 100\n",
    " if N > 0:\n",
    "     ε_a_percent = abs(approx_val - prev_approx)/approx_val * 100\n",
    " else:\n",
    "    ε_a_percent = float('nan')\n",
    " prev_approx = approx_val\n",
    " print(\"%3d %18.10f %10.5f%% %10.5f%%\" % (N+1, approx_val, ε_t_percent, ε_a_percent))\n",
    " if ε_a_percent < ε_s_percent:\n",
    "    print(\"Converged within %d significant digits\" % n_digit)\n",
    "    break\n",
    "\n",
    "print(\"true_val is %18.10f\" % true_val)\n",
    "print(\"approx_val is %18.10f\" % approx_val)"
   ]
  },
  {
   "cell_type": "markdown",
   "metadata": {},
   "source": [
    "<mark style=\"background-color: lightskyblue\">SOAL 2</mark>"
   ]
  },
  {
   "cell_type": "code",
   "execution_count": 2,
   "metadata": {},
   "outputs": [
    {
     "name": "stdout",
     "output_type": "stream",
     "text": [
      "  1       1.0000000000   39.34693%        nan%\n",
      "  2       1.5000000000    9.02040%   33.33333%\n",
      "  3       1.6250000000    1.43876%    7.69231%\n",
      "  4       1.6458333731    0.17516%    1.26583%\n",
      "  5       1.6484375000    0.01721%    0.15798%\n",
      "  6       1.6486979723    0.00141%    0.01580%\n",
      "Converged within 3 significant digits\n",
      "true_val is       1.6487212181\n",
      "approx_val is       1.6486979723\n",
      "\n",
      "type(true_val) =  <class 'numpy.float32'>\n",
      "type(approx_val) =  <class 'numpy.float32'>\n"
     ]
    }
   ],
   "source": [
    "# Single precision\n",
    "from math import factorial\n",
    "import numpy as np\n",
    "\n",
    "def approx_exp(x, N):\n",
    "    assert(N >= 0)\n",
    "    if N == 0:\n",
    "        return 1\n",
    "    s = np.float32(0.0)\n",
    "    for i in range(N+1):\n",
    "        s = s + np.float32(x**i)/np.float32(factorial(i))\n",
    "    return s\n",
    "\n",
    "x = np.float32(0.5)\n",
    "true_val = np.exp(x) # from np module\n",
    "\n",
    "n_digit = int(input(\"Masukkan digit: \"))\n",
    "# Equation 3.7\n",
    "ε_s_percent = np.float32(0.5)*np.float32(10**(2-n_digit))\n",
    "\n",
    "prev_approx = np.float32(0.0)\n",
    "for N in range(50):\n",
    "    approx_val = approx_exp(x, N)\n",
    "    ε_t_percent = abs(approx_val - true_val)/true_val * 100\n",
    "    if N > 0:\n",
    "        ε_a_percent = abs(approx_val - prev_approx)/approx_val * 100\n",
    "    else:\n",
    "        ε_a_percent = float('nan')\n",
    "    prev_approx = approx_val\n",
    "    print(\"%3d %18.10f %10.5f%% %10.5f%%\" % (N+1, approx_val, ε_t_percent, ε_a_percent))\n",
    "    if ε_a_percent < ε_s_percent:\n",
    "        print(\"Converged within %d significant digits\" % n_digit)\n",
    "        break\n",
    "\n",
    "print(\"true_val is %18.10f\" % true_val)\n",
    "print(\"approx_val is %18.10f\" % approx_val)\n",
    "\n",
    "# Make sure that float32 is used\n",
    "print()\n",
    "print(\"type(true_val) = \", type(true_val))\n",
    "print(\"type(approx_val) = \", type(approx_val))"
   ]
  },
  {
   "cell_type": "code",
   "execution_count": null,
   "metadata": {},
   "outputs": [],
   "source": [
    "# Double precision\n",
    "from math import factorial\n",
    "import numpy as np\n",
    "\n",
    "def approx_exp(x, N):\n",
    "    assert(N >= 0)\n",
    "    if N == 0:\n",
    "        return 1\n",
    "    s = np.float64(0.0)\n",
    "    for i in range(N+1):\n",
    "        s = s + np.float64(x**i)/np.float64(factorial(i))\n",
    "    return s\n",
    "\n",
    "x = np.float64(0.5)\n",
    "true_val = np.exp(x) # from np module\n",
    "\n",
    "n_digit = int(input(\"Masukkan digit: \"))\n",
    "# Equation 3.7\n",
    "ε_s_percent = np.float64(0.5)*np.float64(10**(2-n_digit))\n",
    "\n",
    "prev_approx = np.float64(0.0)\n",
    "for N in range(50):\n",
    "    approx_val = approx_exp(x, N)\n",
    "    ε_t_percent = abs(approx_val - true_val)/true_val * 100\n",
    "    if N > 0:\n",
    "        ε_a_percent = abs(approx_val - prev_approx)/approx_val * 100\n",
    "    else:\n",
    "        ε_a_percent = float('nan')\n",
    "    prev_approx = approx_val\n",
    "    print(\"%3d %18.10f %10.5f%% %10.5f%%\" % (N+1, approx_val, ε_t_percent, ε_a_percent))\n",
    "    if ε_a_percent < ε_s_percent:\n",
    "        print(\"Converged within %d significant digits\" % n_digit)\n",
    "        break\n",
    "\n",
    "print(\"true_val is %18.10f\" % true_val)\n",
    "print(\"approx_val is %18.10f\" % approx_val)\n",
    "\n",
    "# Make sure that float64 is used\n",
    "print()\n",
    "print(\"type(true_val) = \", type(true_val))\n",
    "print(\"type(approx_val) = \", type(approx_val))"
   ]
  },
  {
   "cell_type": "markdown",
   "metadata": {},
   "source": [
    "<mark style=\"background-color: lightskyblue\">SOAL 3</mark>"
   ]
  },
  {
   "cell_type": "code",
   "execution_count": 3,
   "metadata": {},
   "outputs": [
    {
     "name": "stdout",
     "output_type": "stream",
     "text": [
      "Using 1st formula: approx roots:  -0.0009765625   -3000.0\n",
      "<class 'numpy.float32'> <class 'numpy.float32'>\n",
      "<class 'numpy.float32'> <class 'numpy.float32'>\n",
      "Using 2nd formula: approx roots:  -0.001   -3072.0\n",
      "True roots:  -0.001   -3000.0\n"
     ]
    }
   ],
   "source": [
    "import numpy as np\n",
    "\n",
    "def calc_quad_root_v1(a, b, c):\n",
    "    D = np.float32(b**2) - np.float32(4)*a*c\n",
    "    x1 = (-b + np.sqrt(D))/(np.float32(2)*a)\n",
    "    x2 = (-b - np.sqrt(D))/(np.float32(2)*a)\n",
    "    return x1, x2\n",
    "\n",
    "def calc_quad_root_v2(a, b, c):\n",
    "    D = np.float32(b**2) - np.float32(4)*a*c\n",
    "    x1 = (np.float32(-2)*c)/(b + np.sqrt(D))\n",
    "    x2 = (np.float32(-2)*c)/(b - np.sqrt(D))\n",
    "    return x1, x2\n",
    "\n",
    "a = np.float32(1.0)\n",
    "b = np.float32(3000.001)\n",
    "c = np.float32(3.0)\n",
    "\n",
    "x1_true = np.float32(-0.001)\n",
    "x2_true = np.float32(-3000.0)\n",
    "\n",
    "x1, x2 = calc_quad_root_v1(a, b, c)\n",
    "print(\"Using 1st formula: approx roots: \", x1, \" \", x2)\n",
    "print(type(x1), type(x2)) # pastikan x1 dan x2 merupakan np.float32\n",
    "\n",
    "x1, x2 = calc_quad_root_v2(a, b, c)\n",
    "print(type(x1), type(x2))\n",
    "print(\"Using 2nd formula: approx roots: \", x1, \" \", x2)\n",
    "print(\"True roots: \", x1_true, \" \", x2_true)"
   ]
  },
  {
   "cell_type": "code",
   "execution_count": null,
   "metadata": {},
   "outputs": [],
   "source": []
  }
 ],
 "metadata": {
  "interpreter": {
   "hash": "8b03d4cd05d71d535371b426da57de743181e37d8974a9636efe6e78873daaed"
  },
  "kernelspec": {
   "display_name": "Python 3.9.0 64-bit",
   "language": "python",
   "name": "python3"
  },
  "language_info": {
   "codemirror_mode": {
    "name": "ipython",
    "version": 3
   },
   "file_extension": ".py",
   "mimetype": "text/x-python",
   "name": "python",
   "nbconvert_exporter": "python",
   "pygments_lexer": "ipython3",
   "version": "3.9.10"
  },
  "orig_nbformat": 4
 },
 "nbformat": 4,
 "nbformat_minor": 2
}
