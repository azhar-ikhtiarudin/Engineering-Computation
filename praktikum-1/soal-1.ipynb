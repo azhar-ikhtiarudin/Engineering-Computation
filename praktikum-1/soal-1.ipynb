{
 "cells": [
  {
   "cell_type": "code",
   "execution_count": 11,
   "metadata": {},
   "outputs": [
    {
     "name": "stdout",
     "output_type": "stream",
     "text": [
      "  1       1.0000000000   39.34693%        nan%\n",
      "  2       1.5000000000    9.02040%   33.33333%\n",
      "  3       1.6250000000    1.43877%    7.69231%\n",
      "  4       1.6458333333    0.17516%    1.26582%\n",
      "  5       1.6484375000    0.01721%    0.15798%\n",
      "  6       1.6486979167    0.00142%    0.01580%\n",
      "Converged within 3 significant digits\n",
      "true_val is       1.6487212707\n",
      "approx_val is       1.6486979167\n"
     ]
    }
   ],
   "source": [
    "from math import factorial, exp\n",
    "\n",
    "def approx_exp(x, N): \n",
    "    assert(N >= 0)\n",
    "    if N == 0: \n",
    "        return 1 \n",
    "    s = 0.0 \n",
    "    for i in range(N+1): \n",
    "        s = s + x**i/factorial(i) \n",
    "    return s\n",
    "    \n",
    "x=0.5\n",
    "true_val = exp(x)\n",
    "\n",
    "n_digit = 3\n",
    "ε_s_percent = 0.5*10**(2-n_digit)\n",
    "prev_approx = 0.0\n",
    "for N in range(50):\n",
    "    approx_val = approx_exp(x, N)\n",
    "    ε_t_percent = abs(approx_val - true_val)/true_val * 100\n",
    "    if N > 0:\n",
    "        ε_a_percent = abs(approx_val - prev_approx)/approx_val * 100\n",
    "    else:\n",
    "        ε_a_percent = float('nan')\n",
    "    prev_approx = approx_val\n",
    "    print(\"%3d %18.10f %10.5f%% %10.5f%%\" % (N+1, approx_val, ε_t_percent, ε_a_percent))\n",
    "    if ε_a_percent < ε_s_percent:\n",
    "        print(\"Converged within %d significant digits\" % n_digit)\n",
    "        break\n",
    "    \n",
    "print(\"true_val is %18.10f\" % true_val)\n",
    "print(\"approx_val is %18.10f\" % approx_val)"
   ]
  },
  {
   "cell_type": "code",
   "execution_count": 9,
   "metadata": {},
   "outputs": [
    {
     "name": "stdout",
     "output_type": "stream",
     "text": [
      "  1       1.0000000000   39.34693%        nan%\n",
      "  2       1.0000000000   39.34693%    0.00000%\n",
      "Converged within 3 significant digits\n",
      "true_val is       1.6487212707\n",
      "approx_val is       1.0000000000\n"
     ]
    }
   ],
   "source": []
  }
 ],
 "metadata": {
  "interpreter": {
   "hash": "987cbd703dfba44d9b85abc3dca62ccaba18865537b5bf4fce303cb64e6f6229"
  },
  "kernelspec": {
   "display_name": "Python 3.9.10 64-bit (windows store)",
   "language": "python",
   "name": "python3"
  },
  "language_info": {
   "codemirror_mode": {
    "name": "ipython",
    "version": 3
   },
   "file_extension": ".py",
   "mimetype": "text/x-python",
   "name": "python",
   "nbconvert_exporter": "python",
   "pygments_lexer": "ipython3",
   "version": "3.9.10"
  },
  "orig_nbformat": 4
 },
 "nbformat": 4,
 "nbformat_minor": 2
}
