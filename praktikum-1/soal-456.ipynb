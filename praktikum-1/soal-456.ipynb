{
 "cells": [
  {
   "cell_type": "code",
   "execution_count": 1,
   "id": "89bbfbf6",
   "metadata": {},
   "outputs": [],
   "source": [
    "from sympy import *"
   ]
  },
  {
   "cell_type": "code",
   "execution_count": null,
   "id": "634bdf0b",
   "metadata": {},
   "outputs": [],
   "source": []
  },
  {
   "cell_type": "code",
   "execution_count": 6,
   "id": "0a535975",
   "metadata": {},
   "outputs": [
    {
     "name": "stdout",
     "output_type": "stream",
     "text": [
      "Using 1st formula: appprox roots:  -1/1000   -3000\n",
      "Using 2nd formula: appprox roots:  -1/1000   -3000\n",
      "True roots:  -1/1000   -3000\n"
     ]
    }
   ],
   "source": [
    "def calc_quad_root_v1(a, b, c):\n",
    "    D = b**2 - 4*a*c\n",
    "    x1 = (-b + sqrt(D))/(2*a)\n",
    "    x2 = (-b - sqrt(D))/(2*a)\n",
    "    return x1, x2\n",
    "\n",
    "def calc_quad_root_v2(a, b, c):\n",
    "    D = b**2 - 4*a*c\n",
    "    x1 = (-2*c)/(b + sqrt(D))\n",
    "    x2 = (-2*c)/(b - sqrt(D))\n",
    "    return x1, x2\n",
    "\n",
    "a = Rational(1)\n",
    "b = Rational(3000001, 1000)\n",
    "c = Rational(3)\n",
    "\n",
    "x1_true = -Rational(1, 1000)\n",
    "x2_true = -3000\n",
    "\n",
    "x1, x2 = calc_quad_root_v1(a, b, c)\n",
    "print(\"Using 1st formula: appprox roots: \", x1, \" \", x2)\n",
    "\n",
    "x1, x2 = calc_quad_root_v2(a, b, c)\n",
    "print(\"Using 2nd formula: appprox roots: \", x1, \" \", x2)\n",
    "\n",
    "print(\"True roots: \", x1_true, \" \", x2_true)"
   ]
  },
  {
   "cell_type": "code",
   "execution_count": null,
   "id": "bd017ea8",
   "metadata": {},
   "outputs": [],
   "source": []
  },
  {
   "cell_type": "code",
   "execution_count": 39,
   "id": "c99ac2e3",
   "metadata": {},
   "outputs": [
    {
     "name": "stdout",
     "output_type": "stream",
     "text": [
      "1/2\n",
      "       approx            error\n",
      "       0.5219866588      4.3973317527\n",
      "       0.4977544914      0.4491017193\n",
      "       0.4998691469      0.0261706140\n",
      "       0.5000075508      0.0015101621\n",
      "       0.5000003040      0.0000608001\n",
      "       0.4999999878      0.0000024403\n",
      "<class 'sympy.core.numbers.Float'>\n"
     ]
    }
   ],
   "source": [
    "# init_printing(use_unicode=True)\n",
    "# if you are using Jupyter Lab or Notebook, use the following line instead:\n",
    "from sympy import *\n",
    "init_printing(use_latex=True)\n",
    "\n",
    "x = symbols(\"x\")\n",
    "\n",
    "f = cos(x)\n",
    "\n",
    "xi = pi/4\n",
    "xip1 = pi/3\n",
    "h = xip1 - xi\n",
    "\n",
    "# zeroth order\n",
    "f_approx = diff(f, x, 0).subs({x: xi}) # or simply call cos(xi)\n",
    "f_true = cos(xip1)\n",
    "print(f_true)\n",
    "\n",
    "print(\"       approx            error\")\n",
    "for n in range(1,7): # from 1 to 6\n",
    "    new_term = diff(f, x, n) * h**n / factorial(n)\n",
    "    f_approx = f_approx + new_term\n",
    "    f_approx_num = N(f_approx.subs({x: xi}))\n",
    "    err = abs((f_approx_num-f_true)/f_true)*100\n",
    "    print(\" %18.10f%18.10f\" % (f_approx_num, err))\n",
    "    \n",
    "f_true = N(f.subs({x: xip1}))\n",
    "print(type(f_true))\n"
   ]
  }
 ],
 "metadata": {
  "kernelspec": {
   "display_name": "Python 3",
   "language": "python",
   "name": "python3"
  },
  "language_info": {
   "codemirror_mode": {
    "name": "ipython",
    "version": 3
   },
   "file_extension": ".py",
   "mimetype": "text/x-python",
   "name": "python",
   "nbconvert_exporter": "python",
   "pygments_lexer": "ipython3",
   "version": "3.8.8"
  }
 },
 "nbformat": 4,
 "nbformat_minor": 5
}
