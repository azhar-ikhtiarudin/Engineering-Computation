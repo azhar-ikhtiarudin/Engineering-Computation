{
 "cells": [
  {
   "cell_type": "markdown",
   "metadata": {},
   "source": [
    "Defleksi y dari bagian atas tiang kapal dapat dinyatakan dengan\n"
   ]
  },
  {
   "cell_type": "code",
   "execution_count": 13,
   "metadata": {},
   "outputs": [
    {
     "name": "stdout",
     "output_type": "stream",
     "text": [
      "y =  0.164025000000000\n"
     ]
    },
    {
     "ename": "TypeError",
     "evalue": "pretty_print() takes 1 positional argument but 2 were given",
     "output_type": "error",
     "traceback": [
      "\u001b[1;31m---------------------------------------------------------------------------\u001b[0m",
      "\u001b[1;31mTypeError\u001b[0m                                 Traceback (most recent call last)",
      "\u001b[1;32mc:\\Users\\ASUS\\Desktop\\Comp\\praktikum-1\\soal-7.ipynb Cell 2'\u001b[0m in \u001b[0;36m<module>\u001b[1;34m\u001b[0m\n\u001b[0;32m     <a href='vscode-notebook-cell:/c%3A/Users/ASUS/Desktop/Comp/praktikum-1/soal-7.ipynb#ch0000002?line=14'>15</a>\u001b[0m \u001b[39m# Hitung nilai Δy dengan Pers. 4.27 \u001b[39;00m\n\u001b[0;32m     <a href='vscode-notebook-cell:/c%3A/Users/ASUS/Desktop/Comp/praktikum-1/soal-7.ipynb#ch0000002?line=15'>16</a>\u001b[0m Δy \u001b[39m=\u001b[39m \u001b[39mabs\u001b[39m(diff(y,F))\u001b[39m*\u001b[39mΔF \u001b[39m+\u001b[39m \u001b[39mabs\u001b[39m(diff(y,L))\u001b[39m*\u001b[39mΔL \u001b[39m+\u001b[39m \u001b[39mabs\u001b[39m(diff(y,E))\u001b[39m*\u001b[39mΔE \u001b[39m+\u001b[39m \u001b[39mabs\u001b[39m(diff(y,I))\u001b[39m*\u001b[39mΔI      \u001b[39m# lengkapi\u001b[39;00m\n\u001b[1;32m---> <a href='vscode-notebook-cell:/c%3A/Users/ASUS/Desktop/Comp/praktikum-1/soal-7.ipynb#ch0000002?line=16'>17</a>\u001b[0m pprint(\u001b[39m\"\u001b[39;49m\u001b[39mΔy = \u001b[39;49m\u001b[39m\"\u001b[39;49m, Δy) \u001b[39m# bentuk simbolik\u001b[39;00m\n\u001b[0;32m     <a href='vscode-notebook-cell:/c%3A/Users/ASUS/Desktop/Comp/praktikum-1/soal-7.ipynb#ch0000002?line=17'>18</a>\u001b[0m \u001b[39mprint\u001b[39m(\u001b[39m\"\u001b[39m\u001b[39mΔy = \u001b[39m\u001b[39m\"\u001b[39m, Δy\u001b[39m.\u001b[39msubs(dict_subs)) \u001b[39m# evaluasi/substitusi nilai numerik\u001b[39;00m\n\u001b[0;32m     <a href='vscode-notebook-cell:/c%3A/Users/ASUS/Desktop/Comp/praktikum-1/soal-7.ipynb#ch0000002?line=19'>20</a>\u001b[0m \u001b[39m# Hitung nilai ekstrim\u001b[39;00m\n",
      "\u001b[1;31mTypeError\u001b[0m: pretty_print() takes 1 positional argument but 2 were given"
     ]
    }
   ],
   "source": [
    "from sympy import * \n",
    "F, L, E, I = symbols(\"F L E I\")\n",
    "y=F*L**4/(8*E*I)\n",
    "\n",
    "F_num = 750; ΔF = 30 # N/m\n",
    "L_num = 9; ΔL = 0.03 # m\n",
    "E_num = 7.5e9; ΔE = 5e7 # N/m^2\n",
    "I_num = 0.0005; ΔI = 0.000005 # m^4\n",
    "\n",
    "# Hitung nilai y dengan nilai numerik\n",
    "dict_subs = {F: F_num, L: L_num, E: E_num, I: I_num} \n",
    "y_num = y.subs(dict_subs) \n",
    "print(\"y = \", y_num)\n",
    "\n",
    "# Hitung nilai Δy dengan Pers. 4.27 \n",
    "Δy = abs(diff(y,F))*ΔF + abs(diff(y,L))*ΔL + abs(diff(y,E))*ΔE + abs(diff(y,I))*ΔI      # lengkapi\n",
    "pprint(\"Δy = \", Δy) # bentuk simbolik\n",
    "print(\"Δy = \", Δy.subs(dict_subs)) # evaluasi/substitusi nilai numerik\n",
    "\n",
    "# Hitung nilai ekstrim\n",
    "dict_subs = { \n",
    "    F: F_num - ΔF, L: L_num - ΔL, \n",
    "    E: E_num + ΔE, I: I_num + ΔI # mengapa seperti ini?\n",
    "}    \n",
    "\n",
    "ymin = y.subs(dict_subs) \n",
    "print(\"ymin = \", ymin)\n",
    "dict_subs = { \n",
    "    F: F_num + ΔF, L: L_num + ΔL, \n",
    "    E: E_num - ΔE, I: I_num - ΔI\n",
    "}     \n",
    "ymax = y.subs(dict_subs) \n",
    "print(\"ymax = \", ymax)\n",
    "\n"
   ]
  }
 ],
 "metadata": {
  "interpreter": {
   "hash": "987cbd703dfba44d9b85abc3dca62ccaba18865537b5bf4fce303cb64e6f6229"
  },
  "kernelspec": {
   "display_name": "Python 3.9.10 64-bit (windows store)",
   "language": "python",
   "name": "python3"
  },
  "language_info": {
   "codemirror_mode": {
    "name": "ipython",
    "version": 3
   },
   "file_extension": ".py",
   "mimetype": "text/x-python",
   "name": "python",
   "nbconvert_exporter": "python",
   "pygments_lexer": "ipython3",
   "version": "3.9.10"
  },
  "orig_nbformat": 4
 },
 "nbformat": 4,
 "nbformat_minor": 2
}
