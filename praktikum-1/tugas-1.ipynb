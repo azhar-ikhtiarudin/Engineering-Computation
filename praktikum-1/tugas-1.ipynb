{
 "cells": [
  {
   "cell_type": "code",
   "execution_count": null,
   "metadata": {},
   "outputs": [],
   "source": []
  },
  {
   "cell_type": "markdown",
   "metadata": {},
   "source": [
    "<h1>Praktikum 1: Aproksimasi, Kesalahan, dan Deret Taylor</h1>\n",
    "\n",
    "<p>Anggota: </p>\n",
    "<ol>\n",
    "    <li>13320018 Devi Inggarwati </li>\n",
    "    <li>13320021 Luqman Ardiseno</li>\n",
    "    <li>13320041 Azhar Ikhtiarudin </li>\n",
    "    <li>13320042 Ariel Christofer Pelamonia</li>\n",
    "</ol>\n"
   ]
  },
  {
   "cell_type": "markdown",
   "metadata": {},
   "source": [
    "<h3><mark style=\"background-color: lightskyblue\">SOAL 1</mark></h2>"
   ]
  },
  {
   "cell_type": "code",
   "execution_count": 2,
   "metadata": {},
   "outputs": [
    {
     "name": "stdout",
     "output_type": "stream",
     "text": [
      "  1       1.0000000000   39.34693%        nan%\n",
      "  2       1.5000000000    9.02040%   33.33333%\n",
      "  3       1.6250000000    1.43877%    7.69231%\n",
      "  4       1.6458333333    0.17516%    1.26582%\n",
      "  5       1.6484375000    0.01721%    0.15798%\n",
      "  6       1.6486979167    0.00142%    0.01580%\n",
      "Converged within 3 significant digits\n",
      "true_val is       1.6487212707\n",
      "approx_val is       1.6486979167\n"
     ]
    }
   ],
   "source": [
    "from math import factorial, exp\n",
    "\n",
    "def approx_exp(x, N):\n",
    " assert(N >= 0)\n",
    " if N == 0:\n",
    "    return 1\n",
    " s = 0.0\n",
    " for i in range(N+1):\n",
    "    s = s + x**i/factorial(i)\n",
    " return s\n",
    "\n",
    "x = 0.5\n",
    "true_val = exp(x) # from math module\n",
    "\n",
    "n_digit = int(input(\"masukkan digit: \"))\n",
    "# Equation 3.7\n",
    "ε_s_percent = 0.5*10**(2-n_digit)\n",
    "\n",
    "prev_approx = 0.0\n",
    "for N in range(50):\n",
    " approx_val = approx_exp(x, N)\n",
    " ε_t_percent = abs(approx_val - true_val)/true_val * 100\n",
    " if N > 0:\n",
    "     ε_a_percent = abs(approx_val - prev_approx)/approx_val * 100\n",
    " else:\n",
    "    ε_a_percent = float('nan')\n",
    " prev_approx = approx_val\n",
    " print(\"%3d %18.10f %10.5f%% %10.5f%%\" % (N+1, approx_val, ε_t_percent, ε_a_percent))\n",
    " if ε_a_percent < ε_s_percent:\n",
    "    print(\"Converged within %d significant digits\" % n_digit)\n",
    "    break\n",
    "\n",
    "print(\"true_val is %18.10f\" % true_val)\n",
    "print(\"approx_val is %18.10f\" % approx_val)"
   ]
  },
  {
   "cell_type": "markdown",
   "metadata": {},
   "source": [
    "<mark style=\"background-color: lightskyblue\">SOAL 2</mark>"
   ]
  },
  {
   "cell_type": "code",
   "execution_count": 3,
   "metadata": {},
   "outputs": [
    {
     "name": "stdout",
     "output_type": "stream",
     "text": [
      "  1       1.0000000000   39.34693%        nan%\n",
      "  2       1.5000000000    9.02040%   33.33333%\n",
      "  3       1.6250000000    1.43876%    7.69231%\n",
      "  4       1.6458333731    0.17516%    1.26583%\n",
      "  5       1.6484375000    0.01721%    0.15798%\n",
      "  6       1.6486979723    0.00141%    0.01580%\n",
      "Converged within 3 significant digits\n",
      "true_val is       1.6487212181\n",
      "approx_val is       1.6486979723\n",
      "\n",
      "type(true_val) =  <class 'numpy.float32'>\n",
      "type(approx_val) =  <class 'numpy.float32'>\n"
     ]
    }
   ],
   "source": [
    "# Single precision\n",
    "from math import factorial\n",
    "import numpy as np\n",
    "\n",
    "def approx_exp(x, N):\n",
    "    assert(N >= 0)\n",
    "    if N == 0:\n",
    "        return 1\n",
    "    s = np.float32(0.0)\n",
    "    for i in range(N+1):\n",
    "        s = s + np.float32(x**i)/np.float32(factorial(i))\n",
    "    return s\n",
    "\n",
    "x = np.float32(0.5)\n",
    "true_val = np.exp(x) # from np module\n",
    "\n",
    "n_digit = int(input(\"Masukkan digit: \"))\n",
    "# Equation 3.7\n",
    "ε_s_percent = np.float32(0.5)*np.float32(10**(2-n_digit))\n",
    "\n",
    "prev_approx = np.float32(0.0)\n",
    "for N in range(50):\n",
    "    approx_val = approx_exp(x, N)\n",
    "    ε_t_percent = abs(approx_val - true_val)/true_val * 100\n",
    "    if N > 0:\n",
    "        ε_a_percent = abs(approx_val - prev_approx)/approx_val * 100\n",
    "    else:\n",
    "        ε_a_percent = float('nan')\n",
    "    prev_approx = approx_val\n",
    "    print(\"%3d %18.10f %10.5f%% %10.5f%%\" % (N+1, approx_val, ε_t_percent, ε_a_percent))\n",
    "    if ε_a_percent < ε_s_percent:\n",
    "        print(\"Converged within %d significant digits\" % n_digit)\n",
    "        break\n",
    "\n",
    "print(\"true_val is %18.10f\" % true_val)\n",
    "print(\"approx_val is %18.10f\" % approx_val)\n",
    "\n",
    "# Make sure that float32 is used\n",
    "print()\n",
    "print(\"type(true_val) = \", type(true_val))\n",
    "print(\"type(approx_val) = \", type(approx_val))"
   ]
  },
  {
   "cell_type": "code",
   "execution_count": 4,
   "metadata": {},
   "outputs": [
    {
     "name": "stdout",
     "output_type": "stream",
     "text": [
      "  1       1.0000000000   39.34693%        nan%\n",
      "  2       1.5000000000    9.02040%   33.33333%\n",
      "  3       1.6250000000    1.43877%    7.69231%\n",
      "  4       1.6458333333    0.17516%    1.26582%\n",
      "  5       1.6484375000    0.01721%    0.15798%\n",
      "  6       1.6486979167    0.00142%    0.01580%\n",
      "Converged within 3 significant digits\n",
      "true_val is       1.6487212707\n",
      "approx_val is       1.6486979167\n",
      "\n",
      "type(true_val) =  <class 'numpy.float64'>\n",
      "type(approx_val) =  <class 'numpy.float64'>\n"
     ]
    }
   ],
   "source": [
    "# Double precision\n",
    "from math import factorial\n",
    "import numpy as np\n",
    "\n",
    "def approx_exp(x, N):\n",
    "    assert(N >= 0)\n",
    "    if N == 0:\n",
    "        return 1\n",
    "    s = np.float64(0.0)\n",
    "    for i in range(N+1):\n",
    "        s = s + np.float64(x**i)/np.float64(factorial(i))\n",
    "    return s\n",
    "\n",
    "x = np.float64(0.5)\n",
    "true_val = np.exp(x) # from np module\n",
    "\n",
    "n_digit = int(input(\"Masukkan digit: \"))\n",
    "# Equation 3.7\n",
    "ε_s_percent = np.float64(0.5)*np.float64(10**(2-n_digit))\n",
    "\n",
    "prev_approx = np.float64(0.0)\n",
    "for N in range(50):\n",
    "    approx_val = approx_exp(x, N)\n",
    "    ε_t_percent = abs(approx_val - true_val)/true_val * 100\n",
    "    if N > 0:\n",
    "        ε_a_percent = abs(approx_val - prev_approx)/approx_val * 100\n",
    "    else:\n",
    "        ε_a_percent = float('nan')\n",
    "    prev_approx = approx_val\n",
    "    print(\"%3d %18.10f %10.5f%% %10.5f%%\" % (N+1, approx_val, ε_t_percent, ε_a_percent))\n",
    "    if ε_a_percent < ε_s_percent:\n",
    "        print(\"Converged within %d significant digits\" % n_digit)\n",
    "        break\n",
    "\n",
    "print(\"true_val is %18.10f\" % true_val)\n",
    "print(\"approx_val is %18.10f\" % approx_val)\n",
    "\n",
    "# Make sure that float64 is used\n",
    "print()\n",
    "print(\"type(true_val) = \", type(true_val))\n",
    "print(\"type(approx_val) = \", type(approx_val))"
   ]
  },
  {
   "cell_type": "markdown",
   "metadata": {},
   "source": [
    "<mark style=\"background-color: lightskyblue\">SOAL 3</mark>"
   ]
  },
  {
   "cell_type": "code",
   "execution_count": 5,
   "metadata": {},
   "outputs": [
    {
     "name": "stdout",
     "output_type": "stream",
     "text": [
      "Using 1st formula: approx roots:  -0.0009765625   -3000.0\n",
      "<class 'numpy.float32'> <class 'numpy.float32'>\n",
      "<class 'numpy.float32'> <class 'numpy.float32'>\n",
      "Using 2nd formula: approx roots:  -0.001   -3072.0\n",
      "True roots:  -0.001   -3000.0\n"
     ]
    }
   ],
   "source": [
    "import numpy as np\n",
    "\n",
    "def calc_quad_root_v1(a, b, c):\n",
    "    D = np.float32(b**2) - np.float32(4)*a*c\n",
    "    x1 = (-b + np.sqrt(D))/(np.float32(2)*a)\n",
    "    x2 = (-b - np.sqrt(D))/(np.float32(2)*a)\n",
    "    return x1, x2\n",
    "\n",
    "def calc_quad_root_v2(a, b, c):\n",
    "    D = np.float32(b**2) - np.float32(4)*a*c\n",
    "    x1 = (np.float32(-2)*c)/(b + np.sqrt(D))\n",
    "    x2 = (np.float32(-2)*c)/(b - np.sqrt(D))\n",
    "    return x1, x2\n",
    "\n",
    "a = np.float32(1.0)\n",
    "b = np.float32(3000.001)\n",
    "c = np.float32(3.0)\n",
    "\n",
    "x1_true = np.float32(-0.001)\n",
    "x2_true = np.float32(-3000.0)\n",
    "\n",
    "x1, x2 = calc_quad_root_v1(a, b, c)\n",
    "print(\"Using 1st formula: approx roots: \", x1, \" \", x2)\n",
    "print(type(x1), type(x2)) # pastikan x1 dan x2 merupakan np.float32\n",
    "\n",
    "x1, x2 = calc_quad_root_v2(a, b, c)\n",
    "print(type(x1), type(x2))\n",
    "print(\"Using 2nd formula: approx roots: \", x1, \" \", x2)\n",
    "print(\"True roots: \", x1_true, \" \", x2_true)"
   ]
  },
  {
   "cell_type": "markdown",
   "metadata": {},
   "source": [
    "<mark style=\"background-color: lightskyblue\">SOAL 4</mark>"
   ]
  },
  {
   "cell_type": "code",
   "execution_count": 6,
   "metadata": {},
   "outputs": [
    {
     "name": "stdout",
     "output_type": "stream",
     "text": [
      "Using 1st formula: appprox roots:  -1/1000   -3000\n",
      "Using 2nd formula: appprox roots:  -1/1000   -3000\n",
      "True roots:  -1/1000   -3000\n"
     ]
    }
   ],
   "source": [
    "def calc_quad_root_v1(a, b, c):\n",
    "    D = b**2 - 4*a*c\n",
    "    x1 = (-b + sqrt(D))/(2*a)\n",
    "    x2 = (-b - sqrt(D))/(2*a)\n",
    "    return x1, x2\n",
    "\n",
    "def calc_quad_root_v2(a, b, c):\n",
    "    D = b**2 - 4*a*c\n",
    "    x1 = (-2*c)/(b + sqrt(D))\n",
    "    x2 = (-2*c)/(b - sqrt(D))\n",
    "    return x1, x2\n",
    "\n",
    "a = Rational(1)\n",
    "b = Rational(3000001, 1000)\n",
    "c = Rational(3)\n",
    "\n",
    "x1_true = -Rational(1, 1000)\n",
    "x2_true = -3000\n",
    "\n",
    "x1, x2 = calc_quad_root_v1(a, b, c)\n",
    "print(\"Using 1st formula: appprox roots: \", x1, \" \", x2)\n",
    "\n",
    "x1, x2 = calc_quad_root_v2(a, b, c)\n",
    "print(\"Using 2nd formula: appprox roots: \", x1, \" \", x2)\n",
    "\n",
    "print(\"True roots: \", x1_true, \" \", x2_true)"
   ]
  },
  {
   "cell_type": "markdown",
   "metadata": {},
   "source": [
    "<mark style=\"background-color: lightskyblue\">SOAL 5</mark>"
   ]
  },
  {
   "cell_type": "code",
   "execution_count": 7,
   "metadata": {},
   "outputs": [
    {
     "name": "stdout",
     "output_type": "stream",
     "text": [
      "1/2\n",
      "       approx            error\n",
      "       0.5219866588      4.3973317527\n",
      "       0.4977544914      0.4491017193\n",
      "       0.4998691469      0.0261706140\n",
      "       0.5000075508      0.0015101621\n",
      "       0.5000003040      0.0000608001\n",
      "       0.4999999878      0.0000024403\n",
      "<class 'sympy.core.numbers.Float'>\n"
     ]
    }
   ],
   "source": [
    "# init_printing(use_unicode=True)\n",
    "# if you are using Jupyter Lab or Notebook, use the following line instead:\n",
    "from sympy import *\n",
    "init_printing(use_latex=True)\n",
    "\n",
    "x = symbols(\"x\")\n",
    "\n",
    "f = cos(x)\n",
    "\n",
    "xi = pi/4\n",
    "xip1 = pi/3\n",
    "h = xip1 - xi\n",
    "\n",
    "# zeroth order\n",
    "f_approx = diff(f, x, 0).subs({x: xi}) # or simply call cos(xi)\n",
    "f_true = cos(xip1)\n",
    "print(f_true)\n",
    "\n",
    "print(\"       approx            error\")\n",
    "for n in range(1,7): # from 1 to 6\n",
    "    new_term = diff(f, x, n) * h**n / factorial(n)\n",
    "    f_approx = f_approx + new_term\n",
    "    f_approx_num = N(f_approx.subs({x: xi}))\n",
    "    err = abs((f_approx_num-f_true)/f_true)*100\n",
    "    print(\" %18.10f%18.10f\" % (f_approx_num, err))\n",
    "    \n",
    "f_true = N(f.subs({x: xip1}))\n",
    "print(type(f_true))"
   ]
  },
  {
   "cell_type": "markdown",
   "metadata": {},
   "source": [
    "<mark style=\"background-color: lightskyblue\">SOAL 6</mark>"
   ]
  },
  {
   "cell_type": "code",
   "execution_count": 12,
   "metadata": {},
   "outputs": [
    {
     "name": "stdout",
     "output_type": "stream",
     "text": [
      "forward diff (h=0.5):  -1.4500000132247806\n",
      "backward diff (h=0.5):  -0.5500000016763806\n",
      "centered diff (h=0.5):  -1.0000000074505806\n",
      "forward diff (h=0.25):  -1.1546875085914508\n",
      "backward diff (h=0.25):  -0.7140625029569492\n",
      "centered diff (h=0.25):  -0.9343750057742\n",
      "true value:  -0.9124999977648258\n"
     ]
    }
   ],
   "source": [
    "from sympy import * \n",
    "\n",
    "def f(x):\n",
    "    return -np.float32(0.1)*x**np.float32(4) - np.float32(0.15)*x**np.float32(3) - np.float32(0.5)*x**np.float32(2) - np.float32(0.25)*x + np.float32(1.2)\n",
    "\n",
    "def df(x):\n",
    "    return -np.float32(0.4)*x**np.float32(3) - np.float32(0.45)*x**np.float32(2) - x - np.float32(0.25)\n",
    "\n",
    "def forward_diff(f, x, h):\n",
    "    return ((f(x+h)-f(x))/h)\n",
    "\n",
    "def backward_diff(f, x, h):\n",
    "    return ((f(x)-f(x-h))/h)\n",
    "\n",
    "def centered_diff(f, x, h):\n",
    "    return (f(x+h) - f(x-h))/(np.float32(2)*h) \n",
    "\n",
    "print(\"forward diff (h=0.5): \", forward_diff(f, 0.5, 0.5))\n",
    "print(\"backward diff (h=0.5): \", backward_diff(f, 0.5, 0.5))\n",
    "print(\"centered diff (h=0.5): \", centered_diff(f, 0.5, 0.5))\n",
    "\n",
    "print(\"forward diff (h=0.25): \", forward_diff(f, 0.5, 0.25))\n",
    "print(\"backward diff (h=0.25): \", backward_diff(f, 0.5, 0.25))\n",
    "print(\"centered diff (h=0.25): \", centered_diff(f, 0.5, 0.25))\n",
    "\n",
    "print(\"true value: \", df(0.5))\n"
   ]
  },
  {
   "cell_type": "markdown",
   "metadata": {},
   "source": [
    "<mark style=\"background-color: lightskyblue\">SOAL 7</mark>"
   ]
  },
  {
   "cell_type": "code",
   "execution_count": 9,
   "metadata": {},
   "outputs": [
    {
     "name": "stdout",
     "output_type": "stream",
     "text": [
      "y =  0.164025000000000\n",
      "Δy =  0.0114817500000000\n",
      "ymin =  0.152817803053675\n",
      "ymax =  0.175789991552837\n"
     ]
    }
   ],
   "source": [
    "from sympy import * \n",
    "F, L, E, I = symbols(\"F L E I\")\n",
    "y=F*L**4/(8*E*I)\n",
    "\n",
    "F_num = 750; ΔF = 30 # N/m\n",
    "L_num = 9; ΔL = 0.03 # m\n",
    "E_num = 7.5e9; ΔE = 5e7 # N/m^2\n",
    "I_num = 0.0005; ΔI = 0.000005 # m^4\n",
    "\n",
    "# Hitung nilai y dengan nilai numerik\n",
    "dict_subs = {F: F_num, L: L_num, E: E_num, I: I_num} \n",
    "y_num = y.subs(dict_subs) \n",
    "print(\"y = \", y_num)\n",
    "\n",
    "# Hitung nilai Δy dengan Pers. 4.27 \n",
    "Δy = abs(diff(y,F))*ΔF + abs(diff(y,L))*ΔL + abs(diff(y,E))*ΔE + abs(diff(y,I))*ΔI      # lengkapi\n",
    "# pprint(Δy) # bentuk simbolik\n",
    "print(\"Δy = \", Δy.subs(dict_subs)) # evaluasi/substitusi nilai numerik\n",
    "\n",
    "# Hitung nilai ekstrim\n",
    "dict_subs = { \n",
    "    F: F_num - ΔF, L: L_num - ΔL, \n",
    "    E: E_num + ΔE, I: I_num + ΔI # mengapa seperti ini?\n",
    "}    \n",
    "\n",
    "ymin = y.subs(dict_subs) \n",
    "print(\"ymin = \", ymin)\n",
    "dict_subs = { \n",
    "    F: F_num + ΔF, L: L_num + ΔL, \n",
    "    E: E_num - ΔE, I: I_num - ΔI\n",
    "}     \n",
    "ymax = y.subs(dict_subs) \n",
    "print(\"ymax = \", ymax)\n",
    "\n"
   ]
  },
  {
   "cell_type": "markdown",
   "metadata": {},
   "source": [
    "<mark style=\"background-color: lightskyblue\">SOAL 8</mark>"
   ]
  },
  {
   "cell_type": "code",
   "execution_count": 23,
   "metadata": {},
   "outputs": [
    {
     "name": "stdout",
     "output_type": "stream",
     "text": [
      "                  =====32 bit=====                       \n",
      "--------------------------------------------------------\n",
      "     h               approx_val               error\n",
      "--------------------------------------------------------\n",
      "      1.0000000000  -1.26250004768372    0.3500000238419\n",
      "      0.1000000015  -0.91600000858307    0.0034999847412\n",
      "      0.0099999998  -0.91253519058228    0.0000351667404\n",
      "      0.0009999999  -0.91248756647110    0.0000124573708\n",
      "      0.0001000000  -0.91254723072052    0.0000472068787\n",
      "      0.0000100000  -0.91493141651154    0.0024313926697\n",
      "      0.0000010000  -0.92387211322784    0.0113720893860\n",
      "      0.0000001000  -0.89406979084015    0.0184302330017\n",
      "      0.0000000100   0.00000000000000    0.9125000238419\n",
      "      0.0000000010   0.00000000000000    0.9125000238419\n",
      "      0.0000000001   0.00000000000000    0.9125000238419\n",
      "--------------------------------------------------------\n",
      "type h:  <class 'numpy.float32'>\n",
      "type centered diff(f,x,h):  <class 'numpy.float32'>\n"
     ]
    }
   ],
   "source": [
    "import numpy as np\n",
    "# Soal 8 (32 bit)\n",
    "\n",
    "def f(x):\n",
    "    return -np.float32(0.1)*x**np.float32(4) - np.float32(0.15)*x**np.float32(3) - np.float32(0.5)*x**np.float32(2) - np.float32(0.25)*x + np.float32(1.2)\n",
    "\n",
    "def df(x):\n",
    "    return -np.float32(0.4)*x**np.float32(3) - np.float32(0.45)*x**np.float32(2) - x - np.float32(0.25)\n",
    "\n",
    "def centered_diff(f, x, h):\n",
    "    return (f(x+h) - f(x-h))/(np.float32(2)*h) \n",
    "\n",
    "\n",
    "x = np.float32(0.5) \n",
    "h = np.float32(1.0)\n",
    "true_val = df(x)\n",
    "\n",
    "print(\"                  =====32 bit=====                       \")\n",
    "print(\"--------------------------------------------------------\")\n",
    "print(\"     h               approx_val               error\")\n",
    "print(\"--------------------------------------------------------\")\n",
    "\n",
    "for i in range(11):\n",
    "    approx_val = centered_diff(f, x, h)\n",
    "    εt = abs(approx_val - true_val)\n",
    "    print(\"%18.10f %18.14f %18.13f\" % (h, approx_val, εt))\n",
    "    h = h/np.float32(10)\n",
    "    \n",
    "print(\"--------------------------------------------------------\")\n",
    "print(\"type h: \", type(h))\n",
    "print(\"type centered diff(f,x,h): \", type(centered_diff(f,x,h)))"
   ]
  },
  {
   "cell_type": "code",
   "execution_count": 24,
   "metadata": {},
   "outputs": [
    {
     "name": "stdout",
     "output_type": "stream",
     "text": [
      "                  =====32 bit=====                       \n",
      "--------------------------------------------------------\n",
      "     h               approx_val               error\n",
      "--------------------------------------------------------\n",
      "      1.0000000000  -1.26250000000000    0.3500000000000\n",
      "      0.1000000000  -0.91600000000000    0.0035000000000\n",
      "      0.0100000000  -0.91253500000000    0.0000350000000\n",
      "      0.0010000000  -0.91250035000001    0.0000003500000\n",
      "      0.0001000000  -0.91250000349985    0.0000000034998\n",
      "      0.0000100000  -0.91250000003318    0.0000000000332\n",
      "      0.0000010000  -0.91250000000542    0.0000000000054\n",
      "      0.0000001000  -0.91249999945031    0.0000000005497\n",
      "      0.0000000100  -0.91250000333609    0.0000000033361\n",
      "      0.0000000010  -0.91250001998944    0.0000000199894\n",
      "      0.0000000001  -0.91250007550059    0.0000000755006\n",
      "--------------------------------------------------------\n",
      "type h:  <class 'numpy.float64'>\n",
      "type centered diff(f,x,h):  <class 'numpy.float64'>\n"
     ]
    }
   ],
   "source": [
    "import numpy as np\n",
    "# Soal 8 (64 bit)\n",
    "\n",
    "def f(x):\n",
    "    return -np.float64(0.1)*x**np.float64(4) - np.float64(0.15)*x**np.float64(3) - np.float64(0.5)*x**np.float64(2) - np.float64(0.25)*x + np.float64(1.2)\n",
    "\n",
    "def df(x):\n",
    "    return -np.float64(0.4)*x**np.float64(3) - np.float64(0.45)*x**np.float64(2) - x - np.float64(0.25)\n",
    "\n",
    "def centered_diff(f, x, h):\n",
    "    return (f(x+h) - f(x-h))/(np.float64(2)*h) \n",
    "\n",
    "\n",
    "x = np.float64(0.5) \n",
    "h = np.float64(1.0)\n",
    "true_val = df(x)\n",
    "\n",
    "print(\"                  =====32 bit=====                       \")\n",
    "print(\"--------------------------------------------------------\")\n",
    "print(\"     h               approx_val               error\")\n",
    "print(\"--------------------------------------------------------\")\n",
    "\n",
    "for i in range(11):\n",
    "    approx_val = centered_diff(f, x, h)\n",
    "    εt = abs(approx_val - true_val)\n",
    "    print(\"%18.10f %18.14f %18.13f\" % (h, approx_val, εt))\n",
    "    h = h/np.float64(10)\n",
    "    \n",
    "print(\"--------------------------------------------------------\")\n",
    "print(\"type h: \", type(h))\n",
    "print(\"type centered diff(f,x,h): \", type(centered_diff(f,x,h)))"
   ]
  },
  {
   "cell_type": "code",
   "execution_count": 28,
   "metadata": {},
   "outputs": [
    {
     "ename": "AttributeError",
     "evalue": "module 'numpy' has no attribute 'float128'",
     "output_type": "error",
     "traceback": [
      "\u001b[1;31m---------------------------------------------------------------------------\u001b[0m",
      "\u001b[1;31mAttributeError\u001b[0m                            Traceback (most recent call last)",
      "\u001b[1;32mc:\\Users\\ASUS\\Desktop\\Comp\\praktikum-1\\tugas-1.ipynb Cell 19'\u001b[0m in \u001b[0;36m<module>\u001b[1;34m\u001b[0m\n\u001b[0;32m     <a href='vscode-notebook-cell:/c%3A/Users/ASUS/Desktop/Comp/praktikum-1/tugas-1.ipynb#ch0000021?line=9'>10</a>\u001b[0m \u001b[39mdef\u001b[39;00m \u001b[39mcentered_diff\u001b[39m(f, x, h):\n\u001b[0;32m     <a href='vscode-notebook-cell:/c%3A/Users/ASUS/Desktop/Comp/praktikum-1/tugas-1.ipynb#ch0000021?line=10'>11</a>\u001b[0m     \u001b[39mreturn\u001b[39;00m (f(x\u001b[39m+\u001b[39mh) \u001b[39m-\u001b[39m f(x\u001b[39m-\u001b[39mh))\u001b[39m/\u001b[39m(np\u001b[39m.\u001b[39mfloat128(\u001b[39m2\u001b[39m)\u001b[39m*\u001b[39mh) \n\u001b[1;32m---> <a href='vscode-notebook-cell:/c%3A/Users/ASUS/Desktop/Comp/praktikum-1/tugas-1.ipynb#ch0000021?line=13'>14</a>\u001b[0m x\u001b[39m=\u001b[39mnp\u001b[39m.\u001b[39;49mfloat128(\u001b[39m0.5\u001b[39m) \n\u001b[0;32m     <a href='vscode-notebook-cell:/c%3A/Users/ASUS/Desktop/Comp/praktikum-1/tugas-1.ipynb#ch0000021?line=14'>15</a>\u001b[0m h\u001b[39m=\u001b[39mnp\u001b[39m.\u001b[39mfloat128(\u001b[39m1.0\u001b[39m)\n\u001b[0;32m     <a href='vscode-notebook-cell:/c%3A/Users/ASUS/Desktop/Comp/praktikum-1/tugas-1.ipynb#ch0000021?line=15'>16</a>\u001b[0m true_val \u001b[39m=\u001b[39m df(x)\n",
      "File \u001b[1;32m~\\AppData\\Local\\Packages\\PythonSoftwareFoundation.Python.3.9_qbz5n2kfra8p0\\LocalCache\\local-packages\\Python39\\site-packages\\numpy\\__init__.py:313\u001b[0m, in \u001b[0;36m__getattr__\u001b[1;34m(attr)\u001b[0m\n\u001b[0;32m    <a href='file:///~/AppData/Local/Packages/PythonSoftwareFoundation.Python.3.9_qbz5n2kfra8p0/LocalCache/local-packages/Python39/site-packages/numpy/__init__.py?line=309'>310</a>\u001b[0m     \u001b[39mfrom\u001b[39;00m \u001b[39m.\u001b[39;00m\u001b[39mtesting\u001b[39;00m \u001b[39mimport\u001b[39;00m Tester\n\u001b[0;32m    <a href='file:///~/AppData/Local/Packages/PythonSoftwareFoundation.Python.3.9_qbz5n2kfra8p0/LocalCache/local-packages/Python39/site-packages/numpy/__init__.py?line=310'>311</a>\u001b[0m     \u001b[39mreturn\u001b[39;00m Tester\n\u001b[1;32m--> <a href='file:///~/AppData/Local/Packages/PythonSoftwareFoundation.Python.3.9_qbz5n2kfra8p0/LocalCache/local-packages/Python39/site-packages/numpy/__init__.py?line=312'>313</a>\u001b[0m \u001b[39mraise\u001b[39;00m \u001b[39mAttributeError\u001b[39;00m(\u001b[39m\"\u001b[39m\u001b[39mmodule \u001b[39m\u001b[39m{!r}\u001b[39;00m\u001b[39m has no attribute \u001b[39m\u001b[39m\"\u001b[39m\n\u001b[0;32m    <a href='file:///~/AppData/Local/Packages/PythonSoftwareFoundation.Python.3.9_qbz5n2kfra8p0/LocalCache/local-packages/Python39/site-packages/numpy/__init__.py?line=313'>314</a>\u001b[0m                      \u001b[39m\"\u001b[39m\u001b[39m{!r}\u001b[39;00m\u001b[39m\"\u001b[39m\u001b[39m.\u001b[39mformat(\u001b[39m__name__\u001b[39m, attr))\n",
      "\u001b[1;31mAttributeError\u001b[0m: module 'numpy' has no attribute 'float128'"
     ]
    }
   ],
   "source": [
    "import numpy as np\n",
    "# Soal 8 (128 bit)\n",
    "\n",
    "def f(x):\n",
    "    return -np.float128(0.1)*x**np.float128(4) - np.float128(0.15)*x**np.float128(3) - np.float128(0.5)*x**np.float128(2) - np.float128(0.25)*x + np.float128(1.2)\n",
    "\n",
    "def df(x):\n",
    "    return -np.float128(0.4)*x**np.float128(3) - np.float128(0.45)*x**np.float128(2) - x - np.float128(0.25)\n",
    "\n",
    "def centered_diff(f, x, h):\n",
    "    return (f(x+h) - f(x-h))/(np.float128(2)*h) \n",
    "\n",
    "\n",
    "x=np.float128(0.5) \n",
    "h=np.float128(1.0)\n",
    "true_val = df(x)\n",
    "\n",
    "print(\"                  =====32 bit=====                       \")\n",
    "print(\"--------------------------------------------------------\")\n",
    "print(\"     h               approx_val               error\")\n",
    "print(\"--------------------------------------------------------\")\n",
    "\n",
    "for i in range(11):\n",
    "    approx_val = centered_diff(f, x, h)\n",
    "    εt = abs(approx_val - true_val)\n",
    "    print(\"%18.10f %18.14f %18.13f\" % (h, approx_val, εt))\n",
    "    h = h/np.float128(10)\n",
    "    \n",
    "print(\"--------------------------------------------------------\")\n",
    "print(\"type h: \", type(h))\n",
    "print(\"type centered diff(f,x,h): \", type(centered_diff(f,x,h)))"
   ]
  }
 ],
 "metadata": {
  "interpreter": {
   "hash": "8b03d4cd05d71d535371b426da57de743181e37d8974a9636efe6e78873daaed"
  },
  "kernelspec": {
   "display_name": "Python 3.9.0 64-bit",
   "language": "python",
   "name": "python3"
  },
  "language_info": {
   "codemirror_mode": {
    "name": "ipython",
    "version": 3
   },
   "file_extension": ".py",
   "mimetype": "text/x-python",
   "name": "python",
   "nbconvert_exporter": "python",
   "pygments_lexer": "ipython3",
   "version": "3.9.10"
  },
  "orig_nbformat": 4
 },
 "nbformat": 4,
 "nbformat_minor": 2
}
