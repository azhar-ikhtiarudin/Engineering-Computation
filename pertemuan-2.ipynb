{
 "cells": [
  {
   "cell_type": "code",
   "execution_count": 51,
   "metadata": {},
   "outputs": [],
   "source": [
    "\n",
    "import numpy as np\n",
    "import matplotlib.pyplot as plt\n",
    "import matplotlib_inline\n",
    "# import IPythonIpython.display.set_matplotlib_formats(\"svg\")\n"
   ]
  },
  {
   "cell_type": "markdown",
   "metadata": {},
   "source": [
    "Persamaan yang akan dicari akarnya:\n",
    "\n",
    "$$\n",
    "f(c) = \\frac{gm}{c} (1-e^{-(c/m)t}) - v(t)\n",
    "$$"
   ]
  },
  {
   "cell_type": "code",
   "execution_count": 52,
   "metadata": {},
   "outputs": [],
   "source": [
    "g=9.81\n",
    "m=68.1\n",
    "v=40.0\n",
    "t=10.0\n",
    "\n",
    "def f(c):\n",
    "    return g*m/c * (1-np.exp(-(c/m)*t)) -v\n"
   ]
  },
  {
   "cell_type": "code",
   "execution_count": 53,
   "metadata": {},
   "outputs": [
    {
     "data": {
      "image/png": "[encoded data removed]",
      "text/plain": [
       "<Figure size 432x288 with 1 Axes>"
      ]
     },
     "metadata": {
      "needs_background": "light"
     },
     "output_type": "display_data"
    }
   ],
   "source": [
    "x=np.linspace(1.0, 20.0, 100)\n",
    "y=f(x)\n",
    "plt.clf()\n",
    "plt.plot(x,y)\n",
    "plt.grid(True)\n"
   ]
  },
  {
   "cell_type": "code",
   "execution_count": 54,
   "metadata": {},
   "outputs": [
    {
     "data": {
      "text/plain": [
       "7.003318917497836e-05"
      ]
     },
     "execution_count": 54,
     "metadata": {},
     "output_type": "execute_result"
    }
   ],
   "source": [
    "f(14.8011)"
   ]
  },
  {
   "cell_type": "code",
   "execution_count": 55,
   "metadata": {},
   "outputs": [],
   "source": [
    "xl = 12.0\n",
    "xu = 16.0"
   ]
  },
  {
   "cell_type": "code",
   "execution_count": 56,
   "metadata": {},
   "outputs": [
    {
     "data": {
      "text/plain": [
       "(6.113943075921462, -2.230260706051183)"
      ]
     },
     "execution_count": 56,
     "metadata": {},
     "output_type": "execute_result"
    }
   ],
   "source": [
    "f(xl), f(xu)"
   ]
  },
  {
   "cell_type": "code",
   "execution_count": 57,
   "metadata": {},
   "outputs": [],
   "source": [
    "xr = 0.5*(xl+xu)\n",
    "# e_t = abs(xr-x_true)/x_true*100"
   ]
  },
  {
   "cell_type": "code",
   "execution_count": 58,
   "metadata": {},
   "outputs": [],
   "source": [
    "if f(xl)*f(xr) < 0:\n",
    "    xu=xr\n",
    "else:\n",
    "    xl=xr"
   ]
  },
  {
   "cell_type": "code",
   "execution_count": 59,
   "metadata": {},
   "outputs": [
    {
     "data": {
      "text/plain": [
       "(14.0, 16.0)"
      ]
     },
     "execution_count": 59,
     "metadata": {},
     "output_type": "execute_result"
    }
   ],
   "source": [
    "xl, xu"
   ]
  },
  {
   "cell_type": "code",
   "execution_count": 60,
   "metadata": {},
   "outputs": [],
   "source": [
    "def akar(xl, xu, n_iter=100, tolerance=1e-10):\n",
    "    fxl = f(xl)\n",
    "    fxu = f(xu)\n",
    "\n",
    "    if(fxl*fxu>=0):\n",
    "        print('error, tidak memenuhi')\n",
    "        return np.nan\n",
    "\n",
    "    for i in range(1, n_iter): \n",
    "        xr=0.5*(xl+xu)  \n",
    "        fxr = f(xr)\n",
    "        print('xr = %18.10f fxr = %18.10f' % (xr, fxr))\n",
    "        \n",
    "        if abs(fxr)<tolerance:\n",
    "            print('bisection converges')\n",
    "            break\n",
    "        \n",
    "        if(f(xl)*f(xr)<0):\n",
    "            xu=xr\n",
    "        else:\n",
    "            xl=xr\n",
    "            \n",
    "        return xr\n",
    "    "
   ]
  },
  {
   "cell_type": "code",
   "execution_count": 62,
   "metadata": {},
   "outputs": [
    {
     "name": "stdout",
     "output_type": "stream",
     "text": [
      "xr =      14.0000000000 fxr =       1.6111163549\n"
     ]
    },
    {
     "data": {
      "text/plain": [
       "14.0"
      ]
     },
     "execution_count": 62,
     "metadata": {},
     "output_type": "execute_result"
    }
   ],
   "source": [
    "c = akar(12.0,16.0)\n"
   ]
  },
  {
   "cell_type": "markdown",
   "metadata": {},
   "source": [
    "\\eps"
   ]
  }
 ],
 "metadata": {
  "interpreter": {
   "hash": "69eb92836b941e979072a76c7fcfffe5419cca933cedd02cfafbdfca1a93358c"
  },
  "kernelspec": {
   "display_name": "Python 3.9.10 64-bit",
   "language": "python",
   "name": "python3"
  },
  "language_info": {
   "codemirror_mode": {
    "name": "ipython",
    "version": 3
   },
   "file_extension": ".py",
   "mimetype": "text/x-python",
   "name": "python",
   "nbconvert_exporter": "python",
   "pygments_lexer": "ipython3",
   "version": "3.9.10"
  },
  "orig_nbformat": 4
 },
 "nbformat": 4,
 "nbformat_minor": 2
}
